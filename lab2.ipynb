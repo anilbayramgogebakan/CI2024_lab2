{
 "cells": [
  {
   "cell_type": "markdown",
   "metadata": {
    "vscode": {
     "languageId": "plaintext"
    }
   },
   "source": [
    "Copyright **`(c)`** 2024 Giovanni Squillero `<giovanni.squillero@polito.it>`  \n",
    "[`https://github.com/squillero/computational-intelligence`](https://github.com/squillero/computational-intelligence)  \n",
    "Free under certain conditions — see the [`license`](https://github.com/squillero/computational-intelligence/blob/master/LICENSE.md) for details.  "
   ]
  },
  {
   "cell_type": "code",
   "execution_count": 1,
   "metadata": {},
   "outputs": [],
   "source": [
    "import logging\n",
    "from itertools import combinations\n",
    "import pandas as pd\n",
    "import numpy as np\n",
    "from geopy.distance import geodesic\n",
    "import networkx as nx\n",
    "from tqdm.auto import tqdm\n",
    "\n",
    "from icecream import ic\n",
    "\n",
    "logging.basicConfig(level=logging.DEBUG)"
   ]
  },
  {
   "cell_type": "code",
   "execution_count": 2,
   "metadata": {},
   "outputs": [],
   "source": [
    "def read_csv(country_name):\n",
    "    CITIES = pd.read_csv(f'cities/{country_name}.csv', header=None, names=['name', 'lat', 'lon'])\n",
    "    DIST_MATRIX = np.zeros((len(CITIES), len(CITIES)))\n",
    "    for c1, c2 in combinations(CITIES.itertuples(), 2):\n",
    "        DIST_MATRIX[c1.Index, c2.Index] = DIST_MATRIX[c2.Index, c1.Index] = geodesic(\n",
    "            (c1.lat, c1.lon), (c2.lat, c2.lon)\n",
    "        ).km\n",
    "    CITIES.head()\n",
    "    return CITIES, DIST_MATRIX"
   ]
  },
  {
   "cell_type": "markdown",
   "metadata": {},
   "source": [
    "## Lab2 - TSP\n",
    "\n",
    "https://www.wolframcloud.com/obj/giovanni.squillero/Published/Lab2-tsp.nb"
   ]
  },
  {
   "cell_type": "code",
   "execution_count": 3,
   "metadata": {},
   "outputs": [],
   "source": [
    "def tsp_cost(tsp, CITIES, DIST_MATRIX):\n",
    "    if tsp[0] != tsp[-1]:\n",
    "        tsp = np.append(tsp, tsp[0])\n",
    "    assert tsp[0] == tsp[-1]\n",
    "    assert set(tsp) == set(range(len(CITIES)))\n",
    "\n",
    "    tot_cost = 0\n",
    "    for c1, c2 in zip(tsp, tsp[1:]):\n",
    "        tot_cost += DIST_MATRIX[c1, c2]\n",
    "    return tot_cost"
   ]
  },
  {
   "cell_type": "code",
   "execution_count": 4,
   "metadata": {},
   "outputs": [],
   "source": [
    "def scrambleMutation(v1, B=1):\n",
    "    \"\"\"\n",
    "    [1 2 3 4 5 6 7 8 9]\n",
    "    [1 2 8 4 5 3 6 7 9]\n",
    "\n",
    "    B is a coefficient related to strength of mutation. If B=1, there might be at most len(v1) can be occur\n",
    "    \"\"\"\n",
    "    mutation_size = np.random.randint(low=2,high=len(v1)/B)\n",
    "    chosen_ind = np.random.choice(len(v1), size=mutation_size, replace=False)\n",
    "    chosen_elements = v1[chosen_ind]\n",
    "    shuffled_vector = chosen_elements.copy()\n",
    "    np.random.shuffle(shuffled_vector)\n",
    "    v1[chosen_ind] = shuffled_vector\n",
    "\n",
    "    return v1\n",
    "    "
   ]
  },
  {
   "cell_type": "code",
   "execution_count": 5,
   "metadata": {},
   "outputs": [],
   "source": [
    "def top_n_sol(population_arr, CITIES, DIST_MATRIX, K=1):\n",
    "    cost_arr = np.zeros((population_arr.shape[0]))\n",
    "    for i in range(population_arr.shape[0]):\n",
    "        cost_arr[i] = tsp_cost(population_arr[i], CITIES, DIST_MATRIX)\n",
    "    \n",
    "    rankings = np.argsort(cost_arr)\n",
    "\n",
    "    return population_arr[rankings][:K]\n"
   ]
  },
  {
   "cell_type": "code",
   "execution_count": 6,
   "metadata": {},
   "outputs": [],
   "source": [
    "def cycleXover(v1,v2):\n",
    "    child = np.zeros(v1.shape).astype(int)\n",
    "    l1_l2 = np.random.choice(range(0, v1.shape[0]), size=2, replace=False)\n",
    "\n",
    "    segment_from_p1, loci_from_p1 = v1[np.min(l1_l2): np.max(l1_l2)], np.arange(np.min(l1_l2), np.max(l1_l2))\n",
    "\n",
    "    v2_ind = 0\n",
    "    child[loci_from_p1] = segment_from_p1\n",
    "\n",
    "    # Fill the rest\n",
    "    for child_ind in range(len(child)):\n",
    "        if child_ind in loci_from_p1:\n",
    "            continue\n",
    "        while v2[v2_ind] in segment_from_p1:\n",
    "            v2_ind += 1\n",
    "            if v2_ind > len(v2):\n",
    "                return child\n",
    "        child[child_ind] = v2[v2_ind]\n",
    "        v2_ind += 1\n",
    "        \n",
    "    return child"
   ]
  },
  {
   "cell_type": "code",
   "execution_count": 7,
   "metadata": {},
   "outputs": [],
   "source": [
    "def parent_selection(population, CITIES, DIST_MATRIX):\n",
    "    \"\"\"\n",
    "    This function chooses parents with logarithmic probability.\n",
    "    \"\"\"\n",
    "    ex = np.arange(population.shape[0]-1)\n",
    "    # Define inverted logarithmic probabilities\n",
    "    log_probs = np.log1p(max(ex) - ex)**5 # Inverting so that lower values have higher probabilities\n",
    "    log_probs /= log_probs.sum()        # Normalize to create a probability distribution\n",
    "\n",
    "    # Select two unique elements with logarithmic probability\n",
    "    selected_elements = np.random.choice(ex, size=2, replace=False, p=log_probs)\n",
    "    population = top_n_sol(population, CITIES, DIST_MATRIX, K=population.shape[1])\n",
    "    return population[selected_elements[0]], population[selected_elements[1]]"
   ]
  },
  {
   "cell_type": "markdown",
   "metadata": {},
   "source": [
    "## Only Scramble Mutation Algorithm"
   ]
  },
  {
   "cell_type": "code",
   "execution_count": 8,
   "metadata": {},
   "outputs": [],
   "source": [
    "def PopulationScramble(CITIES, DIST_MATRIX, NUM_STEP, POPULATION_SIZE):\n",
    "    city_population = np.array([np.random.choice(len(CITIES), size=(len(CITIES)), replace=False) for _ in range(POPULATION_SIZE)])\n",
    "    curr_best = top_n_sol(city_population, CITIES, DIST_MATRIX,1)[0]\n",
    "\n",
    "    print(f\"Random solution is initialized. Cost: {tsp_cost(curr_best, CITIES, DIST_MATRIX)}\")\n",
    "\n",
    "    for i in tqdm(range(NUM_STEP)):\n",
    "        offsprings = np.zeros(city_population.shape)\n",
    "\n",
    "        for i in range(city_population.shape[0]):\n",
    "            parent = city_population[i]\n",
    "            child = parent.copy()\n",
    "            child = scrambleMutation(child)\n",
    "            offsprings[i] = child\n",
    "        \n",
    "        everybody = np.vstack((city_population, offsprings)).astype(int)\n",
    "        new_generation = top_n_sol(everybody, CITIES, DIST_MATRIX, K=POPULATION_SIZE)\n",
    "        city_population = new_generation\n",
    "    \n",
    "    curr_sol = city_population[0]\n",
    "\n",
    "\n",
    "    print(f\"Current solution is with a cost of {tsp_cost(curr_sol, CITIES, DIST_MATRIX)}\")\n",
    "\n"
   ]
  },
  {
   "cell_type": "markdown",
   "metadata": {},
   "source": [
    "## Only Cycle Crossover Algorithm"
   ]
  },
  {
   "cell_type": "code",
   "execution_count": 9,
   "metadata": {},
   "outputs": [],
   "source": [
    "def PopulationCycle(CITIES, DIST_MATRIX,NUM_STEP, POPULATION_SIZE, NUM_OFFSPRINGS):\n",
    "    city_population = np.array([np.random.choice(len(CITIES), size=(len(CITIES)), replace=False) for _ in range(POPULATION_SIZE)])\n",
    "    curr_best = top_n_sol(city_population, CITIES, DIST_MATRIX,1)[0]\n",
    "\n",
    "\n",
    "    print(f\"Random solution is initialized. Cost: {tsp_cost(curr_best, CITIES, DIST_MATRIX)}\")\n",
    "\n",
    "    for i in tqdm(range(NUM_STEP)):\n",
    "        offsprings = np.zeros((NUM_OFFSPRINGS, city_population.shape[1]))\n",
    "\n",
    "        for i in range(NUM_OFFSPRINGS):\n",
    "            parents = parent_selection(city_population, CITIES, DIST_MATRIX)\n",
    "            child = parents[1].copy()\n",
    "            child = cycleXover(parents[0], parents[1])\n",
    "            offsprings[i] = child\n",
    "        \n",
    "        everybody = np.vstack((city_population, offsprings)).astype(int)\n",
    "        new_generation = top_n_sol(everybody, CITIES, DIST_MATRIX, K=POPULATION_SIZE)\n",
    "        city_population = new_generation\n",
    "    \n",
    "    curr_sol = city_population[0]\n",
    "\n",
    "\n",
    "    print(f\"Current solution is with a cost of {tsp_cost(curr_sol, CITIES, DIST_MATRIX)}\")"
   ]
  },
  {
   "cell_type": "markdown",
   "metadata": {},
   "source": [
    "## Scramble Mutation + Cycle Crossever Algorithm"
   ]
  },
  {
   "cell_type": "code",
   "execution_count": 10,
   "metadata": {},
   "outputs": [],
   "source": [
    "NUM_STEP = 10000\n",
    "POPULATION_SIZE = 10\n",
    "NUM_OFFSPRINGS = 10\n",
    "P_MUTATION = 0.1\n",
    "P_XOVER = 1-P_MUTATION\n",
    "\n",
    "def PopulationHybrid(CITIES, DIST_MATRIX,NUM_STEP, POPULATION_SIZE, NUM_OFFSPRINGS,P_MUTATION):\n",
    "    city_population = np.array([np.random.choice(len(CITIES), size=(len(CITIES)), replace=False) for _ in range(POPULATION_SIZE)])\n",
    "    curr_best = top_n_sol(city_population,CITIES, DIST_MATRIX,1)[0]\n",
    "\n",
    "\n",
    "    print(f\"Random solution is initialized. Cost: {tsp_cost(curr_best, CITIES, DIST_MATRIX)}\")\n",
    "\n",
    "    for i in tqdm(range(NUM_STEP)):\n",
    "        if np.random.random() < P_MUTATION:\n",
    "            offsprings = np.zeros((NUM_OFFSPRINGS, city_population.shape[1]))\n",
    "\n",
    "            for i in range(NUM_OFFSPRINGS):\n",
    "                parents = parent_selection(city_population, CITIES, DIST_MATRIX)\n",
    "                child = parents[1].copy()\n",
    "                child = cycleXover(parents[0], parents[1])\n",
    "                offsprings[i] = child\n",
    "            \n",
    "            everybody = np.vstack((city_population, offsprings)).astype(int)\n",
    "            new_generation = top_n_sol(everybody, CITIES, DIST_MATRIX, K=POPULATION_SIZE)\n",
    "            city_population = new_generation\n",
    "        else:\n",
    "            offsprings = np.zeros(city_population.shape)\n",
    "\n",
    "            for i in range(city_population.shape[0]):\n",
    "                parent = city_population[i]\n",
    "                child = parent.copy()\n",
    "                child = scrambleMutation(child)\n",
    "                offsprings[i] = child\n",
    "            \n",
    "            everybody = np.vstack((city_population, offsprings)).astype(int)\n",
    "            new_generation = top_n_sol(everybody, CITIES, DIST_MATRIX, K=POPULATION_SIZE)\n",
    "            city_population = new_generation\n",
    "          \n",
    "    curr_sol = city_population[0]\n",
    "\n",
    "    print(f\"Current solution is with a cost of {tsp_cost(curr_sol, CITIES, DIST_MATRIX)}\")"
   ]
  },
  {
   "cell_type": "markdown",
   "metadata": {},
   "source": [
    "## Test Runs"
   ]
  },
  {
   "cell_type": "markdown",
   "metadata": {},
   "source": [
    "### Vanuatu"
   ]
  },
  {
   "cell_type": "code",
   "execution_count": 11,
   "metadata": {},
   "outputs": [
    {
     "name": "stdout",
     "output_type": "stream",
     "text": [
      "Random solution is initialized. Cost: 1640.2978447123357\n"
     ]
    },
    {
     "data": {
      "application/vnd.jupyter.widget-view+json": {
       "model_id": "03081f5727984c84bae5a90543469229",
       "version_major": 2,
       "version_minor": 0
      },
      "text/plain": [
       "  0%|          | 0/10000 [00:00<?, ?it/s]"
      ]
     },
     "metadata": {},
     "output_type": "display_data"
    },
    {
     "name": "stdout",
     "output_type": "stream",
     "text": [
      "Current solution is with a cost of 1345.544956473311\n",
      "\n",
      "Random solution is initialized. Cost: 1475.7794291837738\n"
     ]
    },
    {
     "data": {
      "application/vnd.jupyter.widget-view+json": {
       "model_id": "8eb1a62173ce4602b552aa229d9e88e1",
       "version_major": 2,
       "version_minor": 0
      },
      "text/plain": [
       "  0%|          | 0/10000 [00:00<?, ?it/s]"
      ]
     },
     "metadata": {},
     "output_type": "display_data"
    },
    {
     "name": "stdout",
     "output_type": "stream",
     "text": [
      "Current solution is with a cost of 1472.198639920995\n",
      "\n",
      "Random solution is initialized. Cost: 1558.9987568276256\n"
     ]
    },
    {
     "data": {
      "application/vnd.jupyter.widget-view+json": {
       "model_id": "4b887c81fe154806bb23ea4dccc052dd",
       "version_major": 2,
       "version_minor": 0
      },
      "text/plain": [
       "  0%|          | 0/10000 [00:00<?, ?it/s]"
      ]
     },
     "metadata": {},
     "output_type": "display_data"
    },
    {
     "name": "stdout",
     "output_type": "stream",
     "text": [
      "Current solution is with a cost of 1345.5449564733112\n",
      "\n",
      "Random solution is initialized. Cost: 1595.498382618305\n"
     ]
    },
    {
     "data": {
      "application/vnd.jupyter.widget-view+json": {
       "model_id": "794a0f4b1dee4f54a20bccad71968308",
       "version_major": 2,
       "version_minor": 0
      },
      "text/plain": [
       "  0%|          | 0/10000 [00:00<?, ?it/s]"
      ]
     },
     "metadata": {},
     "output_type": "display_data"
    },
    {
     "name": "stdout",
     "output_type": "stream",
     "text": [
      "Current solution is with a cost of 1345.544956473311\n"
     ]
    }
   ],
   "source": [
    "CITIES, DIST_MATRIX = read_csv(\"vanuatu\")\n",
    "NUM_STEP = 10000\n",
    "POPULATION_SIZE = 10\n",
    "NUM_OFFSPRINGS = 10\n",
    "PopulationScramble(CITIES, DIST_MATRIX, NUM_STEP, POPULATION_SIZE)\n",
    "print()\n",
    "\n",
    "NUM_STEP = 10000\n",
    "POPULATION_SIZE = 10\n",
    "NUM_OFFSPRINGS = 10\n",
    "PopulationCycle(CITIES, DIST_MATRIX,NUM_STEP, POPULATION_SIZE, NUM_OFFSPRINGS)\n",
    "print()\n",
    "\n",
    "NUM_STEP = 10000\n",
    "POPULATION_SIZE = 10\n",
    "NUM_OFFSPRINGS = 10\n",
    "P_MUTATION = 0.8\n",
    "P_XOVER = 1-P_MUTATION\n",
    "\n",
    "PopulationHybrid(CITIES, DIST_MATRIX,NUM_STEP, POPULATION_SIZE, NUM_OFFSPRINGS,P_MUTATION)\n",
    "print()\n",
    "\n",
    "P_MUTATION = 0.2\n",
    "P_XOVER = 1-P_MUTATION\n",
    "\n",
    "PopulationHybrid(CITIES, DIST_MATRIX,NUM_STEP, POPULATION_SIZE, NUM_OFFSPRINGS,P_MUTATION)"
   ]
  },
  {
   "cell_type": "markdown",
   "metadata": {},
   "source": [
    "### Italy"
   ]
  },
  {
   "cell_type": "code",
   "execution_count": 12,
   "metadata": {},
   "outputs": [
    {
     "name": "stdout",
     "output_type": "stream",
     "text": [
      "Random solution is initialized. Cost: 16936.160768931724\n"
     ]
    },
    {
     "data": {
      "application/vnd.jupyter.widget-view+json": {
       "model_id": "e7b9162e22cc4bc8b99751c0e9221095",
       "version_major": 2,
       "version_minor": 0
      },
      "text/plain": [
       "  0%|          | 0/10000 [00:00<?, ?it/s]"
      ]
     },
     "metadata": {},
     "output_type": "display_data"
    },
    {
     "name": "stdout",
     "output_type": "stream",
     "text": [
      "Current solution is with a cost of 6003.077652431114\n",
      "\n",
      "Random solution is initialized. Cost: 16203.79297172712\n"
     ]
    },
    {
     "data": {
      "application/vnd.jupyter.widget-view+json": {
       "model_id": "60fa380780ed496980a3e9165a441510",
       "version_major": 2,
       "version_minor": 0
      },
      "text/plain": [
       "  0%|          | 0/10000 [00:00<?, ?it/s]"
      ]
     },
     "metadata": {},
     "output_type": "display_data"
    },
    {
     "name": "stdout",
     "output_type": "stream",
     "text": [
      "Current solution is with a cost of 15445.181747080811\n",
      "\n",
      "Random solution is initialized. Cost: 17222.927465255976\n"
     ]
    },
    {
     "data": {
      "application/vnd.jupyter.widget-view+json": {
       "model_id": "a4b64708532248e9881ce9be279c712c",
       "version_major": 2,
       "version_minor": 0
      },
      "text/plain": [
       "  0%|          | 0/10000 [00:00<?, ?it/s]"
      ]
     },
     "metadata": {},
     "output_type": "display_data"
    },
    {
     "name": "stdout",
     "output_type": "stream",
     "text": [
      "Current solution is with a cost of 7412.864129135289\n",
      "\n",
      "Random solution is initialized. Cost: 17969.91733844916\n"
     ]
    },
    {
     "data": {
      "application/vnd.jupyter.widget-view+json": {
       "model_id": "b21c09c4496044b5aba87988f17fe984",
       "version_major": 2,
       "version_minor": 0
      },
      "text/plain": [
       "  0%|          | 0/10000 [00:00<?, ?it/s]"
      ]
     },
     "metadata": {},
     "output_type": "display_data"
    },
    {
     "name": "stdout",
     "output_type": "stream",
     "text": [
      "Current solution is with a cost of 6792.071074456272\n"
     ]
    }
   ],
   "source": [
    "CITIES, DIST_MATRIX = read_csv(\"italy\")\n",
    "NUM_STEP = 10000\n",
    "POPULATION_SIZE = 10\n",
    "NUM_OFFSPRINGS = 10\n",
    "PopulationScramble(CITIES, DIST_MATRIX, NUM_STEP, POPULATION_SIZE)\n",
    "print()\n",
    "\n",
    "NUM_STEP = 10000\n",
    "POPULATION_SIZE = 10\n",
    "NUM_OFFSPRINGS = 10\n",
    "PopulationCycle(CITIES, DIST_MATRIX,NUM_STEP, POPULATION_SIZE, NUM_OFFSPRINGS)\n",
    "print()\n",
    "\n",
    "NUM_STEP = 10000\n",
    "POPULATION_SIZE = 10\n",
    "NUM_OFFSPRINGS = 10\n",
    "P_MUTATION = 0.8\n",
    "P_XOVER = 1-P_MUTATION\n",
    "\n",
    "PopulationHybrid(CITIES, DIST_MATRIX,NUM_STEP, POPULATION_SIZE, NUM_OFFSPRINGS,P_MUTATION)\n",
    "print()\n",
    "\n",
    "P_MUTATION = 0.2\n",
    "P_XOVER = 1-P_MUTATION\n",
    "\n",
    "PopulationHybrid(CITIES, DIST_MATRIX,NUM_STEP, POPULATION_SIZE, NUM_OFFSPRINGS,P_MUTATION)"
   ]
  },
  {
   "cell_type": "markdown",
   "metadata": {},
   "source": [
    "### US"
   ]
  },
  {
   "cell_type": "code",
   "execution_count": 13,
   "metadata": {},
   "outputs": [
    {
     "name": "stdout",
     "output_type": "stream",
     "text": [
      "Random solution is initialized. Cost: 642976.1252221419\n"
     ]
    },
    {
     "data": {
      "application/vnd.jupyter.widget-view+json": {
       "model_id": "7cc12cba0e034e02a6c7cb9fb1132a9f",
       "version_major": 2,
       "version_minor": 0
      },
      "text/plain": [
       "  0%|          | 0/10000 [00:00<?, ?it/s]"
      ]
     },
     "metadata": {},
     "output_type": "display_data"
    },
    {
     "name": "stdout",
     "output_type": "stream",
     "text": [
      "Current solution is with a cost of 376959.58142718324\n",
      "\n",
      "Random solution is initialized. Cost: 640704.5756262504\n"
     ]
    },
    {
     "data": {
      "application/vnd.jupyter.widget-view+json": {
       "model_id": "ffd2f6b7b3624884b06c773ee7121e97",
       "version_major": 2,
       "version_minor": 0
      },
      "text/plain": [
       "  0%|          | 0/10000 [00:00<?, ?it/s]"
      ]
     },
     "metadata": {},
     "output_type": "display_data"
    },
    {
     "name": "stdout",
     "output_type": "stream",
     "text": [
      "Current solution is with a cost of 575475.0662276574\n",
      "\n",
      "Random solution is initialized. Cost: 626594.6940289958\n"
     ]
    },
    {
     "data": {
      "application/vnd.jupyter.widget-view+json": {
       "model_id": "8ad6bf98d3164a93b81d3b42fd8a98eb",
       "version_major": 2,
       "version_minor": 0
      },
      "text/plain": [
       "  0%|          | 0/10000 [00:00<?, ?it/s]"
      ]
     },
     "metadata": {},
     "output_type": "display_data"
    },
    {
     "name": "stdout",
     "output_type": "stream",
     "text": [
      "Current solution is with a cost of 353738.7889857448\n",
      "\n",
      "Random solution is initialized. Cost: 608285.7225008543\n"
     ]
    },
    {
     "data": {
      "application/vnd.jupyter.widget-view+json": {
       "model_id": "ac918ff1df46409dac4974c4525cb9f2",
       "version_major": 2,
       "version_minor": 0
      },
      "text/plain": [
       "  0%|          | 0/10000 [00:00<?, ?it/s]"
      ]
     },
     "metadata": {},
     "output_type": "display_data"
    },
    {
     "name": "stdout",
     "output_type": "stream",
     "text": [
      "Current solution is with a cost of 310356.83249965\n"
     ]
    }
   ],
   "source": [
    "CITIES, DIST_MATRIX = read_csv(\"us\")\n",
    "NUM_STEP = 10000\n",
    "POPULATION_SIZE = 10\n",
    "NUM_OFFSPRINGS = 10\n",
    "PopulationScramble(CITIES, DIST_MATRIX, NUM_STEP, POPULATION_SIZE)\n",
    "print()\n",
    "\n",
    "NUM_STEP = 10000\n",
    "POPULATION_SIZE = 10\n",
    "NUM_OFFSPRINGS = 10\n",
    "PopulationCycle(CITIES, DIST_MATRIX,NUM_STEP, POPULATION_SIZE, NUM_OFFSPRINGS)\n",
    "print()\n",
    "\n",
    "NUM_STEP = 10000\n",
    "POPULATION_SIZE = 10\n",
    "NUM_OFFSPRINGS = 10\n",
    "P_MUTATION = 0.8\n",
    "P_XOVER = 1-P_MUTATION\n",
    "\n",
    "PopulationHybrid(CITIES, DIST_MATRIX,NUM_STEP, POPULATION_SIZE, NUM_OFFSPRINGS,P_MUTATION)\n",
    "print()\n",
    "\n",
    "P_MUTATION = 0.2\n",
    "P_XOVER = 1-P_MUTATION\n",
    "\n",
    "PopulationHybrid(CITIES, DIST_MATRIX,NUM_STEP, POPULATION_SIZE, NUM_OFFSPRINGS,P_MUTATION)"
   ]
  },
  {
   "cell_type": "markdown",
   "metadata": {},
   "source": [
    "### China"
   ]
  },
  {
   "cell_type": "code",
   "execution_count": 14,
   "metadata": {},
   "outputs": [
    {
     "name": "stdout",
     "output_type": "stream",
     "text": [
      "Random solution is initialized. Cost: 943644.530791301\n"
     ]
    },
    {
     "data": {
      "application/vnd.jupyter.widget-view+json": {
       "model_id": "0003b070403747e2a219982656ca0cc4",
       "version_major": 2,
       "version_minor": 0
      },
      "text/plain": [
       "  0%|          | 0/10000 [00:00<?, ?it/s]"
      ]
     },
     "metadata": {},
     "output_type": "display_data"
    },
    {
     "name": "stdout",
     "output_type": "stream",
     "text": [
      "Current solution is with a cost of 724506.7601957914\n",
      "\n",
      "Random solution is initialized. Cost: 958632.1539599255\n"
     ]
    },
    {
     "data": {
      "application/vnd.jupyter.widget-view+json": {
       "model_id": "c5a14a3d96074758a47b3ffe41837e5c",
       "version_major": 2,
       "version_minor": 0
      },
      "text/plain": [
       "  0%|          | 0/10000 [00:00<?, ?it/s]"
      ]
     },
     "metadata": {},
     "output_type": "display_data"
    },
    {
     "name": "stdout",
     "output_type": "stream",
     "text": [
      "Current solution is with a cost of 920172.0514125223\n",
      "\n",
      "Random solution is initialized. Cost: 940714.6609472723\n"
     ]
    },
    {
     "data": {
      "application/vnd.jupyter.widget-view+json": {
       "model_id": "9e0b7b2ffdc24671b46b7c32b87ee09a",
       "version_major": 2,
       "version_minor": 0
      },
      "text/plain": [
       "  0%|          | 0/10000 [00:00<?, ?it/s]"
      ]
     },
     "metadata": {},
     "output_type": "display_data"
    },
    {
     "name": "stdout",
     "output_type": "stream",
     "text": [
      "Current solution is with a cost of 692287.0202895127\n",
      "\n",
      "Random solution is initialized. Cost: 936060.7834084854\n"
     ]
    },
    {
     "data": {
      "application/vnd.jupyter.widget-view+json": {
       "model_id": "e141329b611b4dbab5ab7536694119eb",
       "version_major": 2,
       "version_minor": 0
      },
      "text/plain": [
       "  0%|          | 0/10000 [00:00<?, ?it/s]"
      ]
     },
     "metadata": {},
     "output_type": "display_data"
    },
    {
     "name": "stdout",
     "output_type": "stream",
     "text": [
      "Current solution is with a cost of 646924.1069130485\n"
     ]
    }
   ],
   "source": [
    "CITIES, DIST_MATRIX = read_csv(\"china\")\n",
    "NUM_STEP = 10000\n",
    "POPULATION_SIZE = 10\n",
    "NUM_OFFSPRINGS = 10\n",
    "PopulationScramble(CITIES, DIST_MATRIX, NUM_STEP, POPULATION_SIZE)\n",
    "print()\n",
    "\n",
    "NUM_STEP = 10000\n",
    "POPULATION_SIZE = 10\n",
    "NUM_OFFSPRINGS = 10\n",
    "PopulationCycle(CITIES, DIST_MATRIX,NUM_STEP, POPULATION_SIZE, NUM_OFFSPRINGS)\n",
    "print()\n",
    "\n",
    "NUM_STEP = 10000\n",
    "POPULATION_SIZE = 10\n",
    "NUM_OFFSPRINGS = 10\n",
    "P_MUTATION = 0.8\n",
    "P_XOVER = 1-P_MUTATION\n",
    "\n",
    "PopulationHybrid(CITIES, DIST_MATRIX,NUM_STEP, POPULATION_SIZE, NUM_OFFSPRINGS,P_MUTATION)\n",
    "print()\n",
    "\n",
    "P_MUTATION = 0.2\n",
    "P_XOVER = 1-P_MUTATION\n",
    "\n",
    "PopulationHybrid(CITIES, DIST_MATRIX,NUM_STEP, POPULATION_SIZE, NUM_OFFSPRINGS,P_MUTATION)"
   ]
  },
  {
   "cell_type": "markdown",
   "metadata": {},
   "source": [
    "### Russia"
   ]
  },
  {
   "cell_type": "code",
   "execution_count": 15,
   "metadata": {},
   "outputs": [
    {
     "name": "stdout",
     "output_type": "stream",
     "text": [
      "Random solution is initialized. Cost: 312111.93350161664\n"
     ]
    },
    {
     "data": {
      "application/vnd.jupyter.widget-view+json": {
       "model_id": "e6760cbdd7464b9ba33258131df3da21",
       "version_major": 2,
       "version_minor": 0
      },
      "text/plain": [
       "  0%|          | 0/10000 [00:00<?, ?it/s]"
      ]
     },
     "metadata": {},
     "output_type": "display_data"
    },
    {
     "name": "stdout",
     "output_type": "stream",
     "text": [
      "Current solution is with a cost of 138062.27574766215\n",
      "\n",
      "Random solution is initialized. Cost: 321076.8597781184\n"
     ]
    },
    {
     "data": {
      "application/vnd.jupyter.widget-view+json": {
       "model_id": "16d9acce223e4c4ea8d98e9928c37643",
       "version_major": 2,
       "version_minor": 0
      },
      "text/plain": [
       "  0%|          | 0/10000 [00:00<?, ?it/s]"
      ]
     },
     "metadata": {},
     "output_type": "display_data"
    },
    {
     "name": "stdout",
     "output_type": "stream",
     "text": [
      "Current solution is with a cost of 287453.0349327676\n",
      "\n",
      "Random solution is initialized. Cost: 311300.6589765704\n"
     ]
    },
    {
     "data": {
      "application/vnd.jupyter.widget-view+json": {
       "model_id": "21a34be4a406466da5775eba85acc4ba",
       "version_major": 2,
       "version_minor": 0
      },
      "text/plain": [
       "  0%|          | 0/10000 [00:00<?, ?it/s]"
      ]
     },
     "metadata": {},
     "output_type": "display_data"
    },
    {
     "name": "stdout",
     "output_type": "stream",
     "text": [
      "Current solution is with a cost of 159129.64927027095\n",
      "\n",
      "Random solution is initialized. Cost: 322881.6127242792\n"
     ]
    },
    {
     "data": {
      "application/vnd.jupyter.widget-view+json": {
       "model_id": "4f4972b8a4d54cc4bc9c6421e5b882f7",
       "version_major": 2,
       "version_minor": 0
      },
      "text/plain": [
       "  0%|          | 0/10000 [00:00<?, ?it/s]"
      ]
     },
     "metadata": {},
     "output_type": "display_data"
    },
    {
     "name": "stdout",
     "output_type": "stream",
     "text": [
      "Current solution is with a cost of 163905.92171973202\n"
     ]
    }
   ],
   "source": [
    "CITIES, DIST_MATRIX = read_csv(\"russia\")\n",
    "NUM_STEP = 10000\n",
    "POPULATION_SIZE = 10\n",
    "NUM_OFFSPRINGS = 10\n",
    "PopulationScramble(CITIES, DIST_MATRIX, NUM_STEP, POPULATION_SIZE)\n",
    "print()\n",
    "\n",
    "NUM_STEP = 10000\n",
    "POPULATION_SIZE = 10\n",
    "NUM_OFFSPRINGS = 10\n",
    "PopulationCycle(CITIES, DIST_MATRIX,NUM_STEP, POPULATION_SIZE, NUM_OFFSPRINGS)\n",
    "print()\n",
    "\n",
    "NUM_STEP = 10000\n",
    "POPULATION_SIZE = 10\n",
    "NUM_OFFSPRINGS = 10\n",
    "P_MUTATION = 0.8\n",
    "P_XOVER = 1-P_MUTATION\n",
    "\n",
    "PopulationHybrid(CITIES, DIST_MATRIX,NUM_STEP, POPULATION_SIZE, NUM_OFFSPRINGS,P_MUTATION)\n",
    "print()\n",
    "\n",
    "P_MUTATION = 0.2\n",
    "P_XOVER = 1-P_MUTATION\n",
    "\n",
    "PopulationHybrid(CITIES, DIST_MATRIX,NUM_STEP, POPULATION_SIZE, NUM_OFFSPRINGS,P_MUTATION)"
   ]
  }
 ],
 "metadata": {
  "kernelspec": {
   "display_name": "ci",
   "language": "python",
   "name": "python3"
  },
  "language_info": {
   "codemirror_mode": {
    "name": "ipython",
    "version": 3
   },
   "file_extension": ".py",
   "mimetype": "text/x-python",
   "name": "python",
   "nbconvert_exporter": "python",
   "pygments_lexer": "ipython3",
   "version": "3.10.15"
  }
 },
 "nbformat": 4,
 "nbformat_minor": 2
}
